{
 "cells": [
  {
   "cell_type": "code",
   "execution_count": null,
   "metadata": {},
   "outputs": [],
   "source": [
    "import pandas as pd\n",
    "import numpy as np\n",
    "from datetime import datetime\n",
    "from sklearn.externals import joblib  # Use 'import joblib' if you have a newer version\n",
    "\n",
    "# Function to check data files and update or create them\n",
    "def manage_data_files(file1_path, file2_path, entry):\n",
    "    # Check for the existence of the data files\n",
    "    try:\n",
    "        data1 = pd.read_csv(file1_path)\n",
    "    except FileNotFoundError:\n",
    "        data1 = pd.DataFrame(columns=list(entry.keys())[:3] + [\"Timestamp\"])  # Q1, Q2, Q3\n",
    "\n",
    "    try:\n",
    "        data2 = pd.read_csv(file2_path)\n",
    "    except FileNotFoundError:\n",
    "        data2 = pd.DataFrame(columns=list(entry.keys())[3:] + [\"Timestamp\"])  # Q4 to Q10\n",
    "\n",
    "    # Update the data files\n",
    "    entry[\"Timestamp\"] = datetime.now().strftime(\"%Y-%m-%d %H:%M:%S\")\n",
    "    new_row1 = entry[:3].copy()\n",
    "    new_row1['Timestamp'] = entry['Timestamp']\n",
    "    new_row2 = entry[3:].copy()\n",
    "    new_row2['Timestamp'] = entry['Timestamp']\n",
    "    \n",
    "    data1 = data1.append(new_row1, ignore_index=True)\n",
    "    data2 = data2.append(new_row2, ignore_index=True)\n",
    "\n",
    "    data1.to_csv(file1_path, index=False)\n",
    "    data2.to_csv(file2_path, index=False)\n",
    "\n",
    "    return data1, data2"
   ]
  },
  {
   "cell_type": "code",
   "execution_count": null,
   "metadata": {},
   "outputs": [],
   "source": [
    "# Function to load and apply the machine learning model\n",
    "def apply_model(data, model_path):\n",
    "    model = joblib.load(model_path)\n",
    "    prediction = model.predict(data.drop(columns=['Timestamp']))\n",
    "    if prediction == 1:\n",
    "        return \"Anomaly Detected, recommend to seek a doctor's advice if this hasn't been done prior.\"\n",
    "    else:\n",
    "        return \"Nothing to worry about, no anomaly detected.\"\n",
    "\n",
    "# Example entry for a new row (this should be received from the app interface)\n",
    "entry_data = {\n",
    "    \"Q1\": 30, \"Q2\": 160, \"Q3\": 55, \"Q4\": \"Moderate\", \"Q5\": \"Regularly\",\n",
    "    \"Q6\": \"Yes, mild cramps\", \"Q7\": \"No\", \"Q8\": \"Yes, mild symptoms\",\n",
    "    \"Q9\": \"3-5 days\", \"Q10\": \"No\"\n",
    "}\n",
    "entry = pd.Series(entry_data)\n",
    "\n",
    "# File paths (should point to a location accessible on the user's phone)\n",
    "file1_path = '/path/to/datafile1.csv'\n",
    "file2_path = '/path/to/datafile2.csv'\n",
    "\n",
    "# Manage data files\n",
    "data1, data2 = manage_data_files(file1_path, file2_path, entry)\n",
    "\n",
    "# Decide which model to use based on entries in data2\n",
    "model_path = 'XG_model.pkl' if len(data2) >= 6 else 'svm_model.joblib'\n",
    "\n",
    "# Apply the model\n",
    "result_message = apply_model(data2, model_path)\n",
    "print(result_message)\n"
   ]
  }
 ],
 "metadata": {
  "language_info": {
   "name": "python"
  }
 },
 "nbformat": 4,
 "nbformat_minor": 2
}
