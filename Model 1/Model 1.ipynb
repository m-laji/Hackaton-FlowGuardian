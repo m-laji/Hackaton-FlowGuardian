{
 "cells": [
  {
   "cell_type": "markdown",
   "metadata": {},
   "source": [
    "Data library"
   ]
  },
  {
   "cell_type": "markdown",
   "metadata": {},
   "source": [
    "### Column Name: Menstrual_Flow ### (ID = Q4)\n", 
    "- **Description**: Describes the volume of menstrual flow\n",
    "- **Data Type**: Categorical\n",
    "- **Permissible Values**: Light, Moderate, Heavy, Very Heavy\n",
    "- **Notes**: Derived from questionnaire\n",
    "\n",
    "### Column Name: Menstrual_Frequency  (ID = Q5)\n",
    "- **Description**: Frequency of menstrual periods\n",
    "- **Data Type**: Categorical\n",
    "- **Permissible Values**: Regularly, Infrequently, Absence\n",
    "- **Notes**: Derived from questionnaire\n",
    "\n",
    "### Column Name: Pain_During_Menstruation  (ID = Q6)\n",
    "- **Description**: Presence and intensity of pain during menstruation\n",
    "- **Data Type**: Categorical\n",
    "- **Permissible Values**: No, Mild cramps, Painful cramps\n",
    "- **Notes**: Derived from questionnaire\n",
    "\n",
    "### Column Name: Irregular_Bleeding  (ID = Q7)\n",
    "- **Description**: Occurrence of bleeding at irregular intervals between periods\n",
    "- **Data Type**: Categorical\n",
    "- **Permissible Values**: No, Yes\n",
    "- **Notes**: Derived from questionnaire\n",
    "\n",
    "### Column Name: Premenstrual_Symptoms  (ID = Q8)\n",
    "- **Description**: Presence and severity of premenstrual symptoms\n",
    "- **Data Type**: Categorical\n",
    "- **Permissible Values**: No, Mild symptoms, Severe symptoms\n",
    "- **Notes**: Derived from questionnaire\n",
    "\n",
    "### Column Name: Menstrual_Period_Duration  (ID = Q9)\n",
    "- **Description**: Duration of menstrual periods\n",
    "- **Data Type**: Categorical\n",
    "- **Permissible Values**: Less than 2 days, 3-5 days, More than 7 days\n",
    "- **Notes**: Derived from questionnaire\n",
    "\n",
    "### Column Name: Recent_Changes  (ID = Q10)\n",
    "- **Description**: Recent changes in menstrual cycle\n",
    "- **Data Type**: Categorical\n",
    "- **Permissible Values**: No, Yes\n",
    "- **Notes**: Derived from questionnaire\n",
    "\n",
    "### Column Name: Condition_Met\n",
    "- **Description**: Indicator if a specific condition is met within the study\n",
    "- **Data Type**: Boolean\n",
    "- **Permissible Values**: True, False\n",
    "- **Notes**: Used for traning (label) purposes, reflects boolean logic\n"
   ]
  },
  {
   "cell_type": "code",
   "execution_count": 1,
   "metadata": {},
   "outputs": [],
   "source": [
    "import pandas as pd\n",
    "import numpy as np\n",
    "from sklearn.preprocessing import StandardScaler\n",
    "from sklearn.svm import SVC\n",
    "from sklearn.metrics import classification_report, confusion_matrix\n",
    "from joblib import dump\n",
    "import os"
   ]
  },
  {
   "cell_type": "markdown",
   "metadata": {},
   "source": [
    "Paths"
   ]
  },
  {
   "cell_type": "code",
   "execution_count": 2,
   "metadata": {},
   "outputs": [],
   "source": [
    "# Define the directory and model file path\n",
    "dir = './'\n",
    "model_path = os.path.join(dir, 'svm_model.joblib')\n",
    "\n",
    "# Load training and testing data from .csv files\n",
    "train = pd.read_csv(os.path.join(dir, 'SVM_train.csv'))\n",
    "test = pd.read_csv(os.path.join(dir, 'SVM_test.csv'))"
   ]
  },
  {
   "cell_type": "markdown",
   "metadata": {},
   "source": [
    "Sneak Peak at dataset"
   ]
  },
  {
   "cell_type": "code",
   "execution_count": 3,
   "metadata": {},
   "outputs": [
    {
     "data": {
      "text/html": [
       "<div>\n",
       "<style scoped>\n",
       "    .dataframe tbody tr th:only-of-type {\n",
       "        vertical-align: middle;\n",
       "    }\n",
       "\n",
       "    .dataframe tbody tr th {\n",
       "        vertical-align: top;\n",
       "    }\n",
       "\n",
       "    .dataframe thead th {\n",
       "        text-align: right;\n",
       "    }\n",
       "</style>\n",
       "<table border=\"1\" class=\"dataframe\">\n",
       "  <thead>\n",
       "    <tr style=\"text-align: right;\">\n",
       "      <th></th>\n",
       "      <th>Q4</th>\n",
       "      <th>Q5</th>\n",
       "      <th>Q6</th>\n",
       "      <th>Q7</th>\n",
       "      <th>Q8</th>\n",
       "      <th>Q9</th>\n",
       "      <th>Q10</th>\n",
       "      <th>Anomaly</th>\n",
       "    </tr>\n",
       "  </thead>\n",
       "  <tbody>\n",
       "    <tr>\n",
       "      <th>658</th>\n",
       "      <td>2</td>\n",
       "      <td>1</td>\n",
       "      <td>1</td>\n",
       "      <td>1</td>\n",
       "      <td>1</td>\n",
       "      <td>2</td>\n",
       "      <td>1</td>\n",
       "      <td>True</td>\n",
       "    </tr>\n",
       "    <tr>\n",
       "      <th>142</th>\n",
       "      <td>3</td>\n",
       "      <td>2</td>\n",
       "      <td>0</td>\n",
       "      <td>0</td>\n",
       "      <td>1</td>\n",
       "      <td>3</td>\n",
       "      <td>1</td>\n",
       "      <td>False</td>\n",
       "    </tr>\n",
       "    <tr>\n",
       "      <th>156</th>\n",
       "      <td>3</td>\n",
       "      <td>2</td>\n",
       "      <td>0</td>\n",
       "      <td>0</td>\n",
       "      <td>1</td>\n",
       "      <td>3</td>\n",
       "      <td>1</td>\n",
       "      <td>False</td>\n",
       "    </tr>\n",
       "    <tr>\n",
       "      <th>27</th>\n",
       "      <td>3</td>\n",
       "      <td>2</td>\n",
       "      <td>0</td>\n",
       "      <td>0</td>\n",
       "      <td>1</td>\n",
       "      <td>3</td>\n",
       "      <td>1</td>\n",
       "      <td>False</td>\n",
       "    </tr>\n",
       "    <tr>\n",
       "      <th>693</th>\n",
       "      <td>2</td>\n",
       "      <td>1</td>\n",
       "      <td>1</td>\n",
       "      <td>1</td>\n",
       "      <td>1</td>\n",
       "      <td>2</td>\n",
       "      <td>1</td>\n",
       "      <td>True</td>\n",
       "    </tr>\n",
       "  </tbody>\n",
       "</table>\n",
       "</div>"
      ],
      "text/plain": [
       "     Q4  Q5  Q6  Q7  Q8  Q9  Q10  Anomaly\n",
       "658   2   1   1   1   1   2    1     True\n",
       "142   3   2   0   0   1   3    1    False\n",
       "156   3   2   0   0   1   3    1    False\n",
       "27    3   2   0   0   1   3    1    False\n",
       "693   2   1   1   1   1   2    1     True"
      ]
     },
     "execution_count": 3,
     "metadata": {},
     "output_type": "execute_result"
    }
   ],
   "source": [
    "test.sample(5)"
   ]
  },
  {
   "cell_type": "markdown",
   "metadata": {},
   "source": [
    "Reproducibility"
   ]
  },
  {
   "cell_type": "code",
   "execution_count": 8,
   "metadata": {},
   "outputs": [],
   "source": [
    "random_configed = 42\n",
    "np.random.seed(random_configed)\n",
    "!pip freeze > ../requirements-frozen.txt"
   ]
  },
  {
   "cell_type": "code",
   "execution_count": 5,
   "metadata": {},
   "outputs": [
    {
     "name": "stdout",
     "output_type": "stream",
     "text": [
      "              precision    recall  f1-score   support\n",
      "\n",
      "       False       1.00      1.00      1.00       500\n",
      "        True       1.00      1.00      1.00       500\n",
      "\n",
      "    accuracy                           1.00      1000\n",
      "   macro avg       1.00      1.00      1.00      1000\n",
      "weighted avg       1.00      1.00      1.00      1000\n",
      "\n",
      "[[500   0]\n",
      " [  0 500]]\n",
      "Precision: 1.00\n",
      "Recall: 1.00\n",
      "F1 Score: 1.00\n",
      "Accuracy: 1.00\n"
     ]
    }
   ],
   "source": [
    "# Separate features and target\n",
    "X_train = train.iloc[:, :-1]  # All columns except the last one\n",
    "y_train = train.iloc[:, -1]  # Only the last column\n",
    "X_test = test.iloc[:, :-1]  # All columns except the last one\n",
    "y_test = test.iloc[:, -1]  # Only the last column\n",
    "\n",
    "# Standardize the features\n",
    "scaler = StandardScaler()\n",
    "X_train_scaled = scaler.fit_transform(X_train)\n",
    "X_test_scaled = scaler.transform(X_test)\n",
    "\n",
    "# Create and train the SVM model\n",
    "model = SVC(kernel='linear', random_state=random_configed)\n",
    "model.fit(X_train_scaled, y_train)\n",
    "\n",
    "# Make predictions on the test set\n",
    "y_pred = model.predict(X_test_scaled)\n",
    "\n",
    "# Print the classification report and confusion matrix\n",
    "report = classification_report(y_test, y_pred, output_dict=True)\n",
    "print(classification_report(y_test, y_pred))\n",
    "print(confusion_matrix(y_test, y_pred))\n",
    "\n",
    "# Save the updated model\n",
    "dump(model, model_path)\n",
    "\n",
    "# Print the summarized metrics from the classification report\n",
    "print(f\"Precision: {report['macro avg']['precision']:.2f}\")\n",
    "print(f\"Recall: {report['macro avg']['recall']:.2f}\")\n",
    "print(f\"F1 Score: {report['macro avg']['f1-score']:.2f}\")\n",
    "print(f\"Accuracy: {report['accuracy']:.2f}\")"
   ]
  },
  {
   "cell_type": "code",
   "execution_count": 6,
   "metadata": {},
   "outputs": [
    {
     "name": "stdout",
     "output_type": "stream",
     "text": [
      "   Q4  Q5  Q6  Q7  Q8  Q9  Q10  Anomaly\n",
      "0   2   1   1   1   1   2    1     True\n",
      "1   2   1   1   1   1   2    1     True\n",
      "2   2   1   1   1   1   2    1     True\n",
      "3   3   2   0   0   1   3    1    False\n",
      "4   3   2   0   0   1   3    1    False\n",
      "5   2   1   1   1   1   2    1     True\n",
      "6   3   2   0   0   1   3    1    False\n",
      "7   3   2   0   0   1   3    1    False\n",
      "8   3   2   0   0   1   3    1    False\n",
      "9   3   2   0   0   1   3    1    False\n",
      "   Q4  Q5  Q6  Q7  Q8  Q9  Q10  Anomaly\n",
      "0   3   2   0   0   1   3    1    False\n",
      "1   2   1   1   1   1   2    1     True\n",
      "2   3   2   0   0   1   3    1    False\n",
      "3   2   1   1   1   1   2    1     True\n",
      "4   2   1   1   1   1   2    1     True\n",
      "5   2   1   1   1   1   2    1     True\n",
      "6   2   1   1   1   1   2    1     True\n",
      "7   2   1   1   1   1   2    1     True\n",
      "8   3   2   0   0   1   3    1    False\n",
      "9   3   2   0   0   1   3    1    False\n",
      "Anomaly\n",
      "True     2000\n",
      "False    2000\n",
      "Name: count, dtype: int64\n",
      "Anomaly\n",
      "False    500\n",
      "True     500\n",
      "Name: count, dtype: int64\n"
     ]
    }
   ],
   "source": [
    "#Overview if the data\n",
    "print(train.head(10))\n",
    "print(test.head(10))  \n",
    "\n",
    "# Print the counts of 'True' and 'False' in the training data\n",
    "print(y_train.value_counts())\n",
    "# Print the counts of 'True' and 'False' in the test data\n",
    "print(y_test.value_counts())"
   ]
  }
 ],
 "metadata": {
  "kernelspec": {
   "display_name": "Python 3 (ipykernel)",
   "language": "python",
   "name": "python3"
  },
  "language_info": {
   "codemirror_mode": {
    "name": "ipython",
    "version": 3
   },
   "file_extension": ".py",
   "mimetype": "text/x-python",
   "name": "python",
   "nbconvert_exporter": "python",
   "pygments_lexer": "ipython3",
   "version": "3.11.2"
  }
 },
 "nbformat": 4,
 "nbformat_minor": 4
}
