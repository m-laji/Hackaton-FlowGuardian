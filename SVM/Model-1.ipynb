{
 "cells": [
  {
   "cell_type": "code",
   "execution_count": 1,
   "metadata": {},
   "outputs": [
    {
     "ename": "NameError",
     "evalue": "name 'random_configed' is not defined",
     "output_type": "error",
     "traceback": [
      "\u001b[0;31m---------------------------------------------------------------------------\u001b[0m",
      "\u001b[0;31mNameError\u001b[0m                                 Traceback (most recent call last)",
      "Cell \u001b[0;32mIn[1], line 28\u001b[0m\n\u001b[1;32m     25\u001b[0m X_test_scaled \u001b[38;5;241m=\u001b[39m scaler\u001b[38;5;241m.\u001b[39mtransform(X_test)\n\u001b[1;32m     27\u001b[0m \u001b[38;5;66;03m# Create and train the SVM model\u001b[39;00m\n\u001b[0;32m---> 28\u001b[0m model \u001b[38;5;241m=\u001b[39m SVC(kernel\u001b[38;5;241m=\u001b[39m\u001b[38;5;124m'\u001b[39m\u001b[38;5;124mlinear\u001b[39m\u001b[38;5;124m'\u001b[39m, random_state\u001b[38;5;241m=\u001b[39m\u001b[43mrandom_configed\u001b[49m)\n\u001b[1;32m     29\u001b[0m model\u001b[38;5;241m.\u001b[39mfit(X_train_scaled, y_train)\n\u001b[1;32m     31\u001b[0m \u001b[38;5;66;03m# Make predictions on the test set\u001b[39;00m\n",
      "\u001b[0;31mNameError\u001b[0m: name 'random_configed' is not defined"
     ]
    }
   ],
   "source": [
    "import pandas as pd\n",
    "from sklearn.preprocessing import StandardScaler\n",
    "from sklearn.svm import SVC\n",
    "from sklearn.metrics import classification_report, confusion_matrix\n",
    "from joblib import dump\n",
    "import os\n",
    "\n",
    "# Define the directory and model file path\n",
    "dir = '/Users/michel/Downloads/Hackaton/Data/SVM'\n",
    "model_path = os.path.join(dir, 'svm_model.joblib')\n",
    "\n",
    "# Load training and testing data from .csv files\n",
    "train = pd.read_csv(os.path.join(dir, 'SVM_train.csv'))\n",
    "test = pd.read_csv(os.path.join(dir, 'SVM_test.csv'))\n",
    "\n",
    "# Separate features and target\n",
    "X_train = train.iloc[:, :-1]  # All columns except the last one\n",
    "y_train = train.iloc[:, -1]  # Only the last column\n",
    "X_test = test.iloc[:, :-1]  # All columns except the last one\n",
    "y_test = test.iloc[:, -1]  # Only the last column\n",
    "\n",
    "# Standardize the features\n",
    "scaler = StandardScaler()\n",
    "X_train_scaled = scaler.fit_transform(X_train)\n",
    "X_test_scaled = scaler.transform(X_test)\n",
    "\n",
    "# Create and train the SVM model\n",
    "model = SVC(kernel='linear', random_state=random_configed)\n",
    "model.fit(X_train_scaled, y_train)\n",
    "\n",
    "# Make predictions on the test set\n",
    "y_pred = model.predict(X_test_scaled)\n",
    "\n",
    "# Print the classification report and confusion matrix\n",
    "report = classification_report(y_test, y_pred, output_dict=True)\n",
    "print(classification_report(y_test, y_pred))\n",
    "print(confusion_matrix(y_test, y_pred))\n",
    "\n",
    "# Save the updated model\n",
    "dump(model, model_path)\n",
    "\n",
    "# Print the summarized metrics from the classification report\n",
    "print(f\"Precision: {report['macro avg']['precision']:.2f}\")\n",
    "print(f\"Recall: {report['macro avg']['recall']:.2f}\")\n",
    "print(f\"F1 Score: {report['macro avg']['f1-score']:.2f}\")\n",
    "print(f\"Accuracy: {report['accuracy']:.2f}\")\n"
   ]
  },
  {
   "cell_type": "code",
   "execution_count": null,
   "metadata": {},
   "outputs": [
    {
     "name": "stdout",
     "output_type": "stream",
     "text": [
      "   Q4  Q5  Q6  Q7  Q8  Q9  Q10  Anomaly\n",
      "0   2   1   1   1   1   2    1     True\n",
      "1   2   1   1   1   1   2    1     True\n",
      "2   2   1   1   1   1   2    1     True\n",
      "3   3   2   0   0   1   3    1    False\n",
      "4   3   2   0   0   1   3    1    False\n",
      "5   2   1   1   1   1   2    1     True\n",
      "6   3   2   0   0   1   3    1    False\n",
      "7   3   2   0   0   1   3    1    False\n",
      "8   3   2   0   0   1   3    1    False\n",
      "9   3   2   0   0   1   3    1    False\n",
      "   Q4  Q5  Q6  Q7  Q8  Q9  Q10  Anomaly\n",
      "0   3   2   0   0   1   3    1    False\n",
      "1   2   1   1   1   1   2    1     True\n",
      "2   3   2   0   0   1   3    1    False\n",
      "3   2   1   1   1   1   2    1     True\n",
      "4   2   1   1   1   1   2    1     True\n",
      "5   2   1   1   1   1   2    1     True\n",
      "6   2   1   1   1   1   2    1     True\n",
      "7   2   1   1   1   1   2    1     True\n",
      "8   3   2   0   0   1   3    1    False\n",
      "9   3   2   0   0   1   3    1    False\n",
      "Anomaly\n",
      "True     2000\n",
      "False    2000\n",
      "Name: count, dtype: int64\n",
      "Anomaly\n",
      "False    500\n",
      "True     500\n",
      "Name: count, dtype: int64\n"
     ]
    }
   ],
   "source": [
    "#Overview if the data\n",
    "print(train.head(10))\n",
    "print(test.head(10))  \n",
    "\n",
    "# Print the counts of 'True' and 'False' in the training data\n",
    "print(y_train.value_counts())\n",
    "# Print the counts of 'True' and 'False' in the test data\n",
    "print(y_test.value_counts())"
   ]
  }
 ],
 "metadata": {
  "kernelspec": {
   "display_name": "Python 3",
   "language": "python",
   "name": "python3"
  },
  "language_info": {
   "codemirror_mode": {
    "name": "ipython",
    "version": 3
   },
   "file_extension": ".py",
   "mimetype": "text/x-python",
   "name": "python",
   "nbconvert_exporter": "python",
   "pygments_lexer": "ipython3",
   "version": "3.11.2"
  }
 },
 "nbformat": 4,
 "nbformat_minor": 2
}
